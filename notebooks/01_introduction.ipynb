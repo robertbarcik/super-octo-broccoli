{
 "cells": [
  {
   "cell_type": "markdown",
   "metadata": {},
   "source": [
    "# Welcome to Agentic AI Training\n",
    "\n",
    "This notebook introduces the repository and the training objectives."
   ]
  },
  {
   "cell_type": "markdown",
   "metadata": {},
   "source": [
    "## Learning Goals\n",
    "- Understand the scope of the training curriculum.\n",
    "- Get familiar with the supporting assets.\n",
    "- Run a quick environment check."
   ]
  },
  {
   "cell_type": "code",
   "execution_count": null,
   "metadata": {},
   "outputs": [],
   "source": [
    "import os\n",
    "from getpass import getpass\n",
    "\n",
    "def _load_openai_api_key() -> str:\n",
    "    \"\"\"Return an OpenAI API token, prompting the user if necessary.\"\"\"\n",
    "    token = os.getenv(\"OPENAI_API_KEY\")\n",
    "    if token:\n",
    "        print(\"Using OpenAI API key from environment.\")\n",
    "        return token\n",
    "\n",
    "    token = getpass(\"Enter your OpenAI API key: \")\n",
    "    if not token:\n",
    "        raise ValueError(\"An OpenAI API key is required to run this notebook.\")\n",
    "    os.environ[\"OPENAI_API_KEY\"] = token\n",
    "    print(\"Stored OpenAI API key in environment for this session.\")\n",
    "    return token\n",
    "\n",
    "OPENAI_API_KEY = _load_openai_api_key()\n"
   ]
  },
  {
   "cell_type": "code",
   "execution_count": null,
   "metadata": {},
   "outputs": [],
   "source": [
    "!python --version"
   ]
  },
  {
   "cell_type": "markdown",
   "metadata": {},
   "source": [
    "## Next Steps\n",
    "Continue to the next notebook to explore function calling workflows."
   ]
  }
 ],
 "metadata": {
  "kernelspec": {
   "display_name": "Python 3",
   "language": "python",
   "name": "python3"
  },
  "language_info": {
   "name": "python",
   "version": "3"
  }
 },
 "nbformat": 4,
 "nbformat_minor": 5
}
